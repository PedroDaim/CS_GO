{
 "cells": [
  {
   "cell_type": "code",
   "execution_count": 1,
   "id": "7c183a99",
   "metadata": {},
   "outputs": [],
   "source": [
    "#Import necessary libraries\n",
    "import pandas as pd\n",
    "import numpy as np\n",
    "import matplotlib.pyplot as plt\n",
    "import seaborn as sns"
   ]
  },
  {
   "cell_type": "code",
   "execution_count": 2,
   "id": "bc8f83c7",
   "metadata": {},
   "outputs": [],
   "source": [
    "#Import the dataset (player_stats.csv)\n",
    "df_players = pd.read_csv('player_stats.csv')"
   ]
  },
  {
   "cell_type": "code",
   "execution_count": null,
   "id": "0f4c9369",
   "metadata": {},
   "outputs": [],
   "source": [
    "#Display the first few rows of the dataframe df_players\n",
    "print(\"First Few Rows Of the Dataframe.\")\n",
    "print(df_players.head())\n",
    "print(\"\\n\" + \"=\"*50 + \"\\n\")\n",
    "\n",
    "#Display the total rows and columns of the dataframe df_players\n",
    "print(\"Rows and Columns Total.\")\n",
    "print(df_players.shape)   \n",
    "print(\"\\n\" + \"=\"*50 + \"\\n\")\n",
    "\n",
    "#Display the columns of the dataframe df_players\n",
    "print(\"Columns of the Dataframe.\")  \n",
    "print(df_players.columns)\n",
    "print(\"\\n\" + \"=\"*50 + \"\\n\")\n",
    "\n",
    "#Display data types, null counts, memory usage.\n",
    "print(\"Data Types, Null Counts, Memory Usage.\")\n",
    "print(df_players.info)   \n",
    "print(\"\\n\" + \"=\"*50 + \"\\n\")\n",
    "\n",
    "\n",
    "#Display descriptive statistics of the dataframe df_players\n",
    "print(\"Descriptive Statistics of the Dataframe.\")       \n",
    "print(df_players.describe())\n",
    "print(\"\\n\" + \"=\"*50 + \"\\n\")\n",
    "\n",
    "#Check for missing values in the dataframe df_players\n",
    "print(\"Missing Values in the Dataframe.\")   \n",
    "print(df_players.isnull().sum())\n",
    "print(\"\\n\" + \"=\"*50 + \"\\n\")"
   ]
  },
  {
   "cell_type": "code",
   "execution_count": null,
   "id": "f67c2e02",
   "metadata": {},
   "outputs": [],
   "source": [
    "# Get the top 10 players by rating\n",
    "top10_rated_players = df_players.sort_values(by='rating', ascending=False).head(10)\n",
    "\n",
    "# Display the top 10 players\n",
    "print(\"Top 10 Players by Rating.\")\n",
    "print(top10_rated_players[['name', 'country', 'rating']])\n",
    "print(\"\\n\" + \"=\"*50 + \"\\n\")"
   ]
  },
  {
   "cell_type": "code",
   "execution_count": null,
   "id": "a58f1258",
   "metadata": {},
   "outputs": [],
   "source": [
    "top10_kd_players = df_players.sort_values(by='kd', ascending=False).head(10)\n",
    "\n",
    "# Display the top 10 players by KD Ratio\n",
    "print(\"Top 10 Players by KD Ratio.\")    \n",
    "print(top10_kd_players[['name', 'country', 'kd']])\n",
    "print(\"\\n\" + \"=\"*50 + \"\\n\")\n"
   ]
  },
  {
   "cell_type": "code",
   "execution_count": null,
   "id": "b852979a",
   "metadata": {},
   "outputs": [
    {
     "name": "stdout",
     "output_type": "stream",
     "text": [
      "Common Players in Top 10 Rated and Top 10 KD Players.\n",
      "{'Kaze', 'deko', 'ZywOo', 'sh1ro', 'saffee', 'm0NESY', 'degster', 's1mple', 'sterling'}\n",
      "\n",
      "==================================================\n",
      "\n"
     ]
    }
   ],
   "source": [
    "# Get the names of the top 10 rated players\n",
    "top_rated_names = set(top10_rated_players['name'])\n",
    "\n",
    "# Get the names of the top 10 KD players\n",
    "top_kd_names = set(top10_kd_players['name'])\n",
    "\n",
    "# Get the intersection of the two sets\n",
    "common_players = top_rated_names.intersection(top_kd_names) \n",
    "print(\"Common Players in Top 10 Rated and Top 10 KD Players.\")\n",
    "print(common_players)       \n",
    "print(\"\\n\" + \"=\"*50 + \"\\n\")\n",
    "\n",
    "\n"
   ]
  },
  {
   "cell_type": "code",
   "execution_count": null,
   "id": "43a39de3",
   "metadata": {},
   "outputs": [],
   "source": [
    "#Function to calculate top 10 countries with the highest KD ratio\n",
    "top_10_countries = (\n",
    "    df_players.groupby('country')['kd']\n",
    "    .mean()\n",
    "    .sort_values(ascending=False)\n",
    "    .head(10)\n",
    ")\n",
    "#Display top 10 countries with the highest KD ratio\n",
    "\n",
    "# Convert the pandas Series to a DataFrame for seaborn\n",
    "top_10_df = top_10_countries.reset_index(name='average_kd')\n",
    "\n",
    "# Create the bar plot for the top_10_countries function using seaborn\n",
    "plt.figure(figsize=(12, 8))\n",
    "sns.barplot(x='average_kd', y='country', data=top_10_df, palette='viridis')\n",
    "plt.title('Top 10 Countries with Highest Average KD Ratio')\n",
    "plt.xlabel('Average Kill/Death Ratio')\n",
    "plt.ylabel('Country')\n",
    "plt.tight_layout()\n",
    "plt.show()"
   ]
  }
 ],
 "metadata": {
  "kernelspec": {
   "display_name": "Python 3",
   "language": "python",
   "name": "python3"
  },
  "language_info": {
   "codemirror_mode": {
    "name": "ipython",
    "version": 3
   },
   "file_extension": ".py",
   "mimetype": "text/x-python",
   "name": "python",
   "nbconvert_exporter": "python",
   "pygments_lexer": "ipython3",
   "version": "3.13.3"
  }
 },
 "nbformat": 4,
 "nbformat_minor": 5
}
